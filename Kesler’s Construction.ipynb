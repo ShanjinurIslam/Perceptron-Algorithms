{
 "cells": [
  {
   "cell_type": "code",
   "execution_count": 533,
   "metadata": {},
   "outputs": [],
   "source": [
    "import numpy as np\n",
    "import pandas as pd\n",
    "\n",
    "MAXEPOCH = 1000"
   ]
  },
  {
   "cell_type": "code",
   "execution_count": 534,
   "metadata": {},
   "outputs": [],
   "source": [
    "file = open(\"multiclass_train.txt\")\n",
    "\n",
    "lines = file.readlines()\n",
    "\n",
    "numClass, numFeature, datasetLen = 0, 0, 0\n",
    "\n",
    "dataset = []\n",
    "\n",
    "count = 0\n",
    "for line in lines:\n",
    "    if count == 0:\n",
    "        var = line.split()\n",
    "        numClass   = int(var[0])\n",
    "        numFeature = int(var[1])\n",
    "        datasetLen = int(var[2])\n",
    "    else:\n",
    "        var = line.split()\n",
    "        data = []\n",
    "        for i in range(numFeature):\n",
    "            data.append(float(var[i]))\n",
    "        data.append(int(var[numFeature]))\n",
    "        dataset.append(data)\n",
    " \n",
    "    count += 1"
   ]
  },
  {
   "cell_type": "code",
   "execution_count": 535,
   "metadata": {},
   "outputs": [],
   "source": [
    "file = open(\"multiclass_test.txt\")\n",
    "\n",
    "lines = file.readlines()\n",
    "test_dataset = []\n",
    "\n",
    "for line in lines:\n",
    "    var = line.split()\n",
    "    data = []\n",
    "    for i in range(numFeature):\n",
    "        data.append(float(var[i]))\n",
    "    data.append(int(var[numFeature]))\n",
    "    test_dataset.append(data)"
   ]
  },
  {
   "cell_type": "code",
   "execution_count": 536,
   "metadata": {},
   "outputs": [],
   "source": [
    "def test(dataset,w):\n",
    "    count_accurate = 0\n",
    "    for data in dataset:\n",
    "        x = np.array(data)\n",
    "        group = x[numFeature]\n",
    "        x[numFeature] = 1\n",
    "        x = np.array(x)\n",
    "        x = x.reshape(numFeature+1,1)\n",
    "        dot_product = np.dot(w,x)[0]\n",
    "        predicted = -1\n",
    "        if dot_product >= 0:\n",
    "            predicted = 1\n",
    "        else:\n",
    "            predicted = 2\n",
    "\n",
    "        if predicted==group:\n",
    "            count_accurate += 1\n",
    "\n",
    "    print(\"Accuracy :\",float((count_accurate/len(dataset))*100))\n",
    "    \n",
    "    return float(count_accurate/len(dataset))"
   ]
  },
  {
   "cell_type": "code",
   "execution_count": 537,
   "metadata": {},
   "outputs": [],
   "source": [
    "weights = []\n",
    "\n",
    "for i in range(numClass):\n",
    "    wi = np.random.uniform(-10,10,numFeature+1)\n",
    "    weights.append(wi)"
   ]
  },
  {
   "cell_type": "code",
   "execution_count": 538,
   "metadata": {},
   "outputs": [
    {
     "name": "stdout",
     "output_type": "stream",
     "text": [
      "[array([-8.71252052,  1.66273518,  0.13559253,  6.20948245]), array([ 5.06717674, -9.25807956, -6.94842691, -4.32583755]), array([-6.11542058, -6.78322061, -4.31463162,  2.44270877])]\n"
     ]
    }
   ],
   "source": [
    "print(weights)"
   ]
  },
  {
   "cell_type": "code",
   "execution_count": 539,
   "metadata": {},
   "outputs": [],
   "source": [
    "# classwise dataset extraction\n",
    "\n",
    "df = pd.DataFrame(dataset)"
   ]
  },
  {
   "cell_type": "code",
   "execution_count": 540,
   "metadata": {},
   "outputs": [],
   "source": [
    "classes = np.unique(df[numFeature])"
   ]
  },
  {
   "cell_type": "code",
   "execution_count": 541,
   "metadata": {},
   "outputs": [
    {
     "data": {
      "text/plain": [
       "array([1, 2, 3])"
      ]
     },
     "execution_count": 541,
     "metadata": {},
     "output_type": "execute_result"
    }
   ],
   "source": [
    "classes"
   ]
  },
  {
   "cell_type": "code",
   "execution_count": 542,
   "metadata": {},
   "outputs": [],
   "source": [
    "class_wise_dataset = []\n",
    "\n",
    "for i in classes:\n",
    "    each_dataset = df.where(\n",
    "                df[numFeature] == i).dropna()\n",
    "    class_wise_dataset.append(each_dataset)"
   ]
  },
  {
   "cell_type": "code",
   "execution_count": 543,
   "metadata": {},
   "outputs": [],
   "source": [
    "w = []\n",
    "for each in weights:\n",
    "    for e in each:\n",
    "        w.append(e)"
   ]
  },
  {
   "cell_type": "code",
   "execution_count": 544,
   "metadata": {},
   "outputs": [
    {
     "data": {
      "text/plain": [
       "(12,)"
      ]
     },
     "execution_count": 544,
     "metadata": {},
     "output_type": "execute_result"
    }
   ],
   "source": [
    "w = np.array(w)\n",
    "w.shape"
   ]
  },
  {
   "cell_type": "code",
   "execution_count": 545,
   "metadata": {},
   "outputs": [
    {
     "name": "stdout",
     "output_type": "stream",
     "text": [
      "[array([ 1., -1.,  0.]), array([ 1.,  0., -1.]), array([-1.,  1.,  0.]), array([ 0.,  1., -1.]), array([-1.,  0.,  1.]), array([ 0., -1.,  1.])]\n"
     ]
    }
   ],
   "source": [
    "dataset = []\n",
    "for i in range(numClass):\n",
    "    for j in range(numClass):\n",
    "        if i != j:\n",
    "            row = np.zeros(numClass)\n",
    "            row[i] = 1\n",
    "            row[j] = -1\n",
    "            dataset.append(row)\n",
    "print(dataset)\n",
    "            "
   ]
  },
  {
   "cell_type": "code",
   "execution_count": 546,
   "metadata": {},
   "outputs": [],
   "source": [
    "def zero_array(numClass,size):\n",
    "    arr = []\n",
    "    for i in range(numClass):\n",
    "        each = np.zeros(size)\n",
    "        arr.append(each)\n",
    "    return np.array(arr)\n",
    "\n",
    "dataset = []\n",
    "count = 0\n",
    "for ds in class_wise_dataset:\n",
    "    values = ds.values\n",
    "    for each in values:\n",
    "        each[numFeature] = 1\n",
    "        for j in range(numClass):\n",
    "            if count != j:\n",
    "                row = zero_array(numClass,len(each))\n",
    "                row[count] = each\n",
    "                row[j] = -each\n",
    "                row = row.reshape((numClass*(numFeature+1)),1)\n",
    "                dataset.append(row)\n",
    "    \n",
    "    count +=1"
   ]
  },
  {
   "cell_type": "code",
   "execution_count": 547,
   "metadata": {},
   "outputs": [],
   "source": [
    "learning_rate = 0.025"
   ]
  },
  {
   "cell_type": "code",
   "execution_count": 548,
   "metadata": {},
   "outputs": [],
   "source": [
    "t = 0"
   ]
  },
  {
   "cell_type": "code",
   "execution_count": 549,
   "metadata": {},
   "outputs": [],
   "source": [
    "for i in range(MAXEPOCH):\n",
    "    count = 0 \n",
    "    for i in range(len(dataset)):\n",
    "        dot_product = np.dot(w,dataset[i])[0]\n",
    "        if dot_product<=0:\n",
    "            count += 1\n",
    "            w = w + learning_rate*np.array(dataset[i].reshape((numClass*(numFeature+1)),))\n",
    "        else:\n",
    "            pass\n",
    "    if count==0:\n",
    "        break"
   ]
  },
  {
   "cell_type": "code",
   "execution_count": 550,
   "metadata": {},
   "outputs": [],
   "source": [
    "w = w.reshape(numClass,(numFeature+1))"
   ]
  },
  {
   "cell_type": "code",
   "execution_count": 551,
   "metadata": {},
   "outputs": [
    {
     "name": "stdout",
     "output_type": "stream",
     "text": [
      "[[ -5.56983552  -3.46259482  -0.60856997   4.18448245]\n",
      " [  3.59247924 -10.52621456  -7.75880941  -4.50083755]\n",
      " [ -7.78340808  -0.38975561  -2.76008662   4.64270877]]\n"
     ]
    }
   ],
   "source": [
    "print(w)"
   ]
  },
  {
   "cell_type": "code",
   "execution_count": 552,
   "metadata": {},
   "outputs": [
    {
     "name": "stdout",
     "output_type": "stream",
     "text": [
      "Accuracy : 98.33333333333333\n"
     ]
    }
   ],
   "source": [
    "count_accurate = 0\n",
    "\n",
    "for i in test_dataset:\n",
    "    group = i[numFeature]\n",
    "    i[numFeature] = 1\n",
    "    i = np.array(i)\n",
    "    i = i.reshape(numFeature+1,1)\n",
    "    dot_sum = []\n",
    "    for wi in w:\n",
    "        dot_product = np.dot(wi,i)[0]\n",
    "        dot_sum.append(dot_product)\n",
    "    pred = np.argmax(dot_sum) + 1\n",
    "    \n",
    "    if pred==group:\n",
    "        count_accurate += 1\n",
    "    \n",
    "print(\"Accuracy :\",float((count_accurate/len(test_dataset))*100))"
   ]
  },
  {
   "cell_type": "code",
   "execution_count": null,
   "metadata": {},
   "outputs": [],
   "source": []
  }
 ],
 "metadata": {
  "kernelspec": {
   "display_name": "Python 3",
   "language": "python",
   "name": "python3"
  },
  "language_info": {
   "codemirror_mode": {
    "name": "ipython",
    "version": 3
   },
   "file_extension": ".py",
   "mimetype": "text/x-python",
   "name": "python",
   "nbconvert_exporter": "python",
   "pygments_lexer": "ipython3",
   "version": "3.7.4"
  }
 },
 "nbformat": 4,
 "nbformat_minor": 2
}
