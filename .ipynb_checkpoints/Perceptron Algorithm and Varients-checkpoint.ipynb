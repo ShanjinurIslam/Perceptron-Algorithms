{
 "cells": [
  {
   "cell_type": "markdown",
   "metadata": {},
   "source": [
    "# Preprocessing"
   ]
  },
  {
   "cell_type": "code",
   "execution_count": 554,
   "metadata": {},
   "outputs": [],
   "source": [
    "import numpy as np\n",
    "import pandas as pd\n",
    "\n",
    "MAXEPOCH = 1000"
   ]
  },
  {
   "cell_type": "code",
   "execution_count": 555,
   "metadata": {},
   "outputs": [],
   "source": [
    "file = open(\"Train.txt\")\n",
    "\n",
    "lines = file.readlines()\n",
    "\n",
    "numClass, numFeature, datasetLen = 0, 0, 0\n",
    "\n",
    "dataset = []\n",
    "\n",
    "count = 0\n",
    "for line in lines:\n",
    "    if count == 0:\n",
    "        var = line.split()\n",
    "        numClass   = int(var[0])\n",
    "        numFeature = int(var[1])\n",
    "        datasetLen = int(var[2])\n",
    "    else:\n",
    "        var = line.split()\n",
    "        data = []\n",
    "        for i in range(numFeature):\n",
    "            data.append(float(var[i]))\n",
    "        data.append(int(var[numFeature]))\n",
    "        dataset.append(data)\n",
    " \n",
    "    count += 1"
   ]
  },
  {
   "cell_type": "code",
   "execution_count": 556,
   "metadata": {},
   "outputs": [],
   "source": [
    "file = open(\"Test.txt\")\n",
    "\n",
    "lines = file.readlines()\n",
    "test_dataset = []\n",
    "\n",
    "for line in lines:\n",
    "    var = line.split()\n",
    "    data = []\n",
    "    for i in range(numFeature):\n",
    "        data.append(float(var[i]))\n",
    "    data.append(int(var[numFeature]))\n",
    "    test_dataset.append(data)"
   ]
  },
  {
   "cell_type": "code",
   "execution_count": 557,
   "metadata": {},
   "outputs": [],
   "source": [
    "def test(dataset,w):\n",
    "    count_accurate = 0\n",
    "    for data in dataset:\n",
    "        x = np.array(data)\n",
    "        group = x[numFeature]\n",
    "        x[numFeature] = 1\n",
    "        x = np.array(x)\n",
    "        x = x.reshape(numFeature+1,1)\n",
    "        dot_product = np.dot(w,x)[0]\n",
    "        predicted = -1\n",
    "        if dot_product >= 0:\n",
    "            predicted = 1\n",
    "        else:\n",
    "            predicted = 2\n",
    "\n",
    "        if predicted==group:\n",
    "            count_accurate += 1\n",
    "\n",
    "    print(\"Accuracy :\",float((count_accurate/len(dataset))*100))\n",
    "    \n",
    "    return float(count_accurate/len(dataset))"
   ]
  },
  {
   "cell_type": "markdown",
   "metadata": {},
   "source": [
    "# Basic Perceptron Algorithm"
   ]
  },
  {
   "cell_type": "code",
   "execution_count": 558,
   "metadata": {},
   "outputs": [],
   "source": [
    "np.random.seed(41)\n",
    "w = np.random.uniform(-10,10,numFeature+1)"
   ]
  },
  {
   "cell_type": "code",
   "execution_count": 559,
   "metadata": {},
   "outputs": [],
   "source": [
    "learning_rate = 0.025"
   ]
  },
  {
   "cell_type": "code",
   "execution_count": 560,
   "metadata": {},
   "outputs": [],
   "source": [
    "t = 0"
   ]
  },
  {
   "cell_type": "code",
   "execution_count": 561,
   "metadata": {},
   "outputs": [
    {
     "name": "stdout",
     "output_type": "stream",
     "text": [
      "Final Weight :  [-5.94740003  2.63876391 10.18632482]\n"
     ]
    }
   ],
   "source": [
    "for i in range(MAXEPOCH):\n",
    "    Y = []\n",
    "    arr_dx = []\n",
    "    for i in range(datasetLen):\n",
    "        x = np.array(dataset[i])\n",
    "        group = x[numFeature]\n",
    "        x[numFeature] = 1\n",
    "        x = x.reshape(numFeature+1,1)\n",
    "        dot_product = np.dot(w,x)[0]\n",
    "        if(group == 2 and dot_product>0):\n",
    "            Y.append(x)\n",
    "            arr_dx.append(1)\n",
    "        elif(group ==1 and dot_product<0):\n",
    "            Y.append(x)\n",
    "            arr_dx.append(-1)\n",
    "        else:\n",
    "            pass\n",
    "    \n",
    "    sum = np.zeros(numFeature+1)\n",
    "    \n",
    "    for i in range(len(Y)):\n",
    "        sum += arr_dx[i]*Y[i].transpose()[0]\n",
    "    \n",
    "    \n",
    "    w = w - learning_rate*sum\n",
    "    \n",
    "    if len(Y) == 0:\n",
    "        break\n",
    "        \n",
    "print('Final Weight : ', w)"
   ]
  },
  {
   "cell_type": "code",
   "execution_count": 562,
   "metadata": {},
   "outputs": [
    {
     "name": "stdout",
     "output_type": "stream",
     "text": [
      "Accuracy : 96.0\n"
     ]
    },
    {
     "data": {
      "text/plain": [
       "0.96"
      ]
     },
     "execution_count": 562,
     "metadata": {},
     "output_type": "execute_result"
    }
   ],
   "source": [
    "test(test_dataset,w)"
   ]
  },
  {
   "cell_type": "markdown",
   "metadata": {},
   "source": [
    "# Reward and Punishment Algorithm"
   ]
  },
  {
   "cell_type": "code",
   "execution_count": 563,
   "metadata": {},
   "outputs": [],
   "source": [
    "np.random.seed(41)\n",
    "w = np.random.uniform(-10,10,numFeature+1)"
   ]
  },
  {
   "cell_type": "code",
   "execution_count": 564,
   "metadata": {},
   "outputs": [],
   "source": [
    "learning_rate = 0.025"
   ]
  },
  {
   "cell_type": "code",
   "execution_count": 565,
   "metadata": {},
   "outputs": [],
   "source": [
    "t = 0"
   ]
  },
  {
   "cell_type": "code",
   "execution_count": 566,
   "metadata": {},
   "outputs": [],
   "source": [
    "for epoch in range(MAXEPOCH):\n",
    "    count = 0\n",
    "    for i in dataset:\n",
    "        original = i\n",
    "        x = np.array(i)\n",
    "        group = x[numFeature]\n",
    "        x[numFeature] = 1\n",
    "        x = x.reshape(numFeature+1,1)\n",
    "        dot_product = np.dot(w,x)[0]\n",
    "        if dot_product<=0 and group == 1:\n",
    "            count += 1\n",
    "            w = w + learning_rate*np.array(original)\n",
    "        elif dot_product >0 and group == 2:\n",
    "            w = w - learning_rate*np.array(original)\n",
    "            count += 1\n",
    "        else:\n",
    "            pass\n",
    "    if count == 0:\n",
    "        break"
   ]
  },
  {
   "cell_type": "code",
   "execution_count": 567,
   "metadata": {},
   "outputs": [
    {
     "name": "stdout",
     "output_type": "stream",
     "text": [
      "Accuracy : 96.0\n"
     ]
    },
    {
     "data": {
      "text/plain": [
       "0.96"
      ]
     },
     "execution_count": 567,
     "metadata": {},
     "output_type": "execute_result"
    }
   ],
   "source": [
    "test(test_dataset,w)"
   ]
  },
  {
   "cell_type": "markdown",
   "metadata": {},
   "source": [
    "# Pocket Algorithm"
   ]
  },
  {
   "cell_type": "markdown",
   "metadata": {},
   "source": [
    "### Pseudocode\n",
    "\n",
    "1. Initialize Wp (pocket vector) with zero or any random number\n",
    "2. Assing Wo (Weight at time = 0)  to Wp\n",
    "3. Run basic perceptron learning algorithm\n",
    "4. If Wt is better classifier (less amount of misclassification than previous) store Wt to Wp\n",
    "5. Return Wp"
   ]
  },
  {
   "cell_type": "code",
   "execution_count": 568,
   "metadata": {},
   "outputs": [],
   "source": [
    "np.random.seed(41)\n",
    "wp = np.random.uniform(-10,10,numFeature+1)\n",
    "w = wp"
   ]
  },
  {
   "cell_type": "code",
   "execution_count": 569,
   "metadata": {},
   "outputs": [],
   "source": [
    "learning_rate = 0.025"
   ]
  },
  {
   "cell_type": "code",
   "execution_count": 570,
   "metadata": {},
   "outputs": [
    {
     "name": "stdout",
     "output_type": "stream",
     "text": [
      "Accuracy : 50.0\n"
     ]
    }
   ],
   "source": [
    "t = 0\n",
    "\n",
    "misclassification = test(dataset,w)*len(dataset)"
   ]
  },
  {
   "cell_type": "code",
   "execution_count": 571,
   "metadata": {},
   "outputs": [],
   "source": [
    "for i in range(MAXEPOCH):\n",
    "    count = 0 \n",
    "    for i in range(datasetLen):\n",
    "        original = dataset[i]\n",
    "        x = np.array(dataset[i])\n",
    "        group = x[numFeature]\n",
    "        x[numFeature] = 1\n",
    "        x = x.reshape(numFeature+1,1)\n",
    "        dot_product = np.dot(w,x)[0]\n",
    "        if dot_product<=0 and group == 1:\n",
    "            count += 1\n",
    "            w = w + np.array(original)\n",
    "        elif dot_product >0 and group == 2:\n",
    "            w = w - np.array(original)\n",
    "            count += 1\n",
    "        else:\n",
    "            pass\n",
    "    \n",
    "    if count<misclassification:\n",
    "        misclassification = count\n",
    "        wp = w\n",
    "    \n",
    "    if count == 0:\n",
    "        break"
   ]
  },
  {
   "cell_type": "code",
   "execution_count": 572,
   "metadata": {},
   "outputs": [
    {
     "name": "stdout",
     "output_type": "stream",
     "text": [
      "[-29.32732753  10.31181641  58.53632482]\n"
     ]
    }
   ],
   "source": [
    "print(wp)"
   ]
  },
  {
   "cell_type": "code",
   "execution_count": 573,
   "metadata": {},
   "outputs": [
    {
     "name": "stdout",
     "output_type": "stream",
     "text": [
      "Accuracy : 96.0\n"
     ]
    },
    {
     "data": {
      "text/plain": [
       "0.96"
      ]
     },
     "execution_count": 573,
     "metadata": {},
     "output_type": "execute_result"
    }
   ],
   "source": [
    "test(test_dataset,wp)"
   ]
  },
  {
   "cell_type": "markdown",
   "metadata": {},
   "source": [
    "# Kesler’s Construction"
   ]
  },
  {
   "cell_type": "code",
   "execution_count": 574,
   "metadata": {},
   "outputs": [],
   "source": [
    "weights = []\n",
    "\n",
    "for i in range(numClass):\n",
    "    wi = np.random.uniform(-10,10,numFeature+1)\n",
    "    weights.append(wi)"
   ]
  },
  {
   "cell_type": "code",
   "execution_count": 575,
   "metadata": {},
   "outputs": [
    {
     "name": "stdout",
     "output_type": "stream",
     "text": [
      "[-29.32732753  10.31181641  58.53632482]\n"
     ]
    }
   ],
   "source": [
    "print(weights)"
   ]
  },
  {
   "cell_type": "code",
   "execution_count": 576,
   "metadata": {},
   "outputs": [],
   "source": [
    "# classwise dataset extraction\n",
    "\n",
    "df = pd.DataFrame(dataset)"
   ]
  },
  {
   "cell_type": "code",
   "execution_count": 577,
   "metadata": {},
   "outputs": [],
   "source": [
    "classes = np.unique(df[numFeature])"
   ]
  },
  {
   "cell_type": "code",
   "execution_count": 578,
   "metadata": {},
   "outputs": [],
   "source": [
    "class_wise_dataset = []\n",
    "\n",
    "for i in classes:\n",
    "    each_dataset = df.where(\n",
    "                df[numFeature] == i).dropna()\n",
    "    class_wise_dataset.append(each_dataset)"
   ]
  },
  {
   "cell_type": "code",
   "execution_count": 579,
   "metadata": {},
   "outputs": [
    {
     "ename": "SyntaxError",
     "evalue": "unexpected EOF while parsing (<ipython-input-579-4b3fa9298ebd>, line 2)",
     "output_type": "error",
     "traceback": [
      "\u001b[0;36m  File \u001b[0;32m\"<ipython-input-579-4b3fa9298ebd>\"\u001b[0;36m, line \u001b[0;32m2\u001b[0m\n\u001b[0;31m    \u001b[0m\n\u001b[0m    ^\u001b[0m\n\u001b[0;31mSyntaxError\u001b[0m\u001b[0;31m:\u001b[0m unexpected EOF while parsing\n"
     ]
    }
   ],
   "source": [
    "\n",
    "for each in weights:\n",
    "    "
   ]
  },
  {
   "cell_type": "code",
   "execution_count": null,
   "metadata": {},
   "outputs": [],
   "source": []
  }
 ],
 "metadata": {
  "kernelspec": {
   "display_name": "Python 3",
   "language": "python",
   "name": "python3"
  },
  "language_info": {
   "codemirror_mode": {
    "name": "ipython",
    "version": 3
   },
   "file_extension": ".py",
   "mimetype": "text/x-python",
   "name": "python",
   "nbconvert_exporter": "python",
   "pygments_lexer": "ipython3",
   "version": "3.7.4"
  }
 },
 "nbformat": 4,
 "nbformat_minor": 2
}
